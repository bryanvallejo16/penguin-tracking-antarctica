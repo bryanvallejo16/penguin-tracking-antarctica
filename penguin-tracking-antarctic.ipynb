{
 "cells": [
  {
   "cell_type": "code",
   "execution_count": 1,
   "id": "c1809d2f",
   "metadata": {},
   "outputs": [],
   "source": [
    "import geopandas as gpd\n",
    "import pandas as pd\n",
    "from pyproj import CRS\n",
    "from keplergl import KeplerGl\n",
    "import matplotlib.pyplot as plt\n",
    "from shapely.geometry import Polygon"
   ]
  },
  {
   "cell_type": "code",
   "execution_count": 2,
   "id": "881a8208",
   "metadata": {},
   "outputs": [
    {
     "data": {
      "text/html": [
       "<div>\n",
       "<style scoped>\n",
       "    .dataframe tbody tr th:only-of-type {\n",
       "        vertical-align: middle;\n",
       "    }\n",
       "\n",
       "    .dataframe tbody tr th {\n",
       "        vertical-align: top;\n",
       "    }\n",
       "\n",
       "    .dataframe thead th {\n",
       "        text-align: right;\n",
       "    }\n",
       "</style>\n",
       "<table border=\"1\" class=\"dataframe\">\n",
       "  <thead>\n",
       "    <tr style=\"text-align: right;\">\n",
       "      <th></th>\n",
       "      <th>timestamp</th>\n",
       "      <th>long</th>\n",
       "      <th>lat</th>\n",
       "      <th>comments</th>\n",
       "      <th>migration_</th>\n",
       "      <th>tag_tech_s</th>\n",
       "      <th>sensor_typ</th>\n",
       "      <th>individual</th>\n",
       "      <th>tag_ident</th>\n",
       "      <th>ind_ident</th>\n",
       "      <th>study_name</th>\n",
       "      <th>date</th>\n",
       "      <th>time</th>\n",
       "      <th>year</th>\n",
       "      <th>geometry</th>\n",
       "    </tr>\n",
       "  </thead>\n",
       "  <tbody>\n",
       "    <tr>\n",
       "      <th>0</th>\n",
       "      <td>2018-01-01T00:43:00</td>\n",
       "      <td>139.74282</td>\n",
       "      <td>-66.57103</td>\n",
       "      <td>2017-2018</td>\n",
       "      <td>Chick-rearing</td>\n",
       "      <td>AxyTrek</td>\n",
       "      <td>gps</td>\n",
       "      <td>None</td>\n",
       "      <td>2018_C15</td>\n",
       "      <td>2018_C15</td>\n",
       "      <td>Adélie penguins, Sphenisciforms, foraging acti...</td>\n",
       "      <td>2021-05-20</td>\n",
       "      <td>None</td>\n",
       "      <td>2018</td>\n",
       "      <td>POINT (139.74282 -66.57103)</td>\n",
       "    </tr>\n",
       "    <tr>\n",
       "      <th>1</th>\n",
       "      <td>2018-01-01T00:44:00</td>\n",
       "      <td>139.74310</td>\n",
       "      <td>-66.57141</td>\n",
       "      <td>2017-2018</td>\n",
       "      <td>Chick-rearing</td>\n",
       "      <td>AxyTrek</td>\n",
       "      <td>gps</td>\n",
       "      <td>None</td>\n",
       "      <td>2018_C15</td>\n",
       "      <td>2018_C15</td>\n",
       "      <td>Adélie penguins, Sphenisciforms, foraging acti...</td>\n",
       "      <td>2021-05-20</td>\n",
       "      <td>None</td>\n",
       "      <td>2018</td>\n",
       "      <td>POINT (139.74310 -66.57141)</td>\n",
       "    </tr>\n",
       "    <tr>\n",
       "      <th>2</th>\n",
       "      <td>2018-01-01T00:45:00</td>\n",
       "      <td>139.74364</td>\n",
       "      <td>-66.57182</td>\n",
       "      <td>2017-2018</td>\n",
       "      <td>Chick-rearing</td>\n",
       "      <td>AxyTrek</td>\n",
       "      <td>gps</td>\n",
       "      <td>None</td>\n",
       "      <td>2018_C15</td>\n",
       "      <td>2018_C15</td>\n",
       "      <td>Adélie penguins, Sphenisciforms, foraging acti...</td>\n",
       "      <td>2021-05-20</td>\n",
       "      <td>None</td>\n",
       "      <td>2018</td>\n",
       "      <td>POINT (139.74364 -66.57182)</td>\n",
       "    </tr>\n",
       "    <tr>\n",
       "      <th>3</th>\n",
       "      <td>2018-01-01T00:46:00</td>\n",
       "      <td>139.74420</td>\n",
       "      <td>-66.57211</td>\n",
       "      <td>2017-2018</td>\n",
       "      <td>Chick-rearing</td>\n",
       "      <td>AxyTrek</td>\n",
       "      <td>gps</td>\n",
       "      <td>None</td>\n",
       "      <td>2018_C15</td>\n",
       "      <td>2018_C15</td>\n",
       "      <td>Adélie penguins, Sphenisciforms, foraging acti...</td>\n",
       "      <td>2021-05-20</td>\n",
       "      <td>None</td>\n",
       "      <td>2018</td>\n",
       "      <td>POINT (139.74420 -66.57211)</td>\n",
       "    </tr>\n",
       "    <tr>\n",
       "      <th>4</th>\n",
       "      <td>2018-01-01T00:47:00</td>\n",
       "      <td>139.74433</td>\n",
       "      <td>-66.57228</td>\n",
       "      <td>2017-2018</td>\n",
       "      <td>Chick-rearing</td>\n",
       "      <td>AxyTrek</td>\n",
       "      <td>gps</td>\n",
       "      <td>None</td>\n",
       "      <td>2018_C15</td>\n",
       "      <td>2018_C15</td>\n",
       "      <td>Adélie penguins, Sphenisciforms, foraging acti...</td>\n",
       "      <td>2021-05-20</td>\n",
       "      <td>None</td>\n",
       "      <td>2018</td>\n",
       "      <td>POINT (139.74433 -66.57228)</td>\n",
       "    </tr>\n",
       "  </tbody>\n",
       "</table>\n",
       "</div>"
      ],
      "text/plain": [
       "             timestamp       long       lat   comments     migration_  \\\n",
       "0  2018-01-01T00:43:00  139.74282 -66.57103  2017-2018  Chick-rearing   \n",
       "1  2018-01-01T00:44:00  139.74310 -66.57141  2017-2018  Chick-rearing   \n",
       "2  2018-01-01T00:45:00  139.74364 -66.57182  2017-2018  Chick-rearing   \n",
       "3  2018-01-01T00:46:00  139.74420 -66.57211  2017-2018  Chick-rearing   \n",
       "4  2018-01-01T00:47:00  139.74433 -66.57228  2017-2018  Chick-rearing   \n",
       "\n",
       "  tag_tech_s sensor_typ individual tag_ident ind_ident  \\\n",
       "0    AxyTrek        gps       None  2018_C15  2018_C15   \n",
       "1    AxyTrek        gps       None  2018_C15  2018_C15   \n",
       "2    AxyTrek        gps       None  2018_C15  2018_C15   \n",
       "3    AxyTrek        gps       None  2018_C15  2018_C15   \n",
       "4    AxyTrek        gps       None  2018_C15  2018_C15   \n",
       "\n",
       "                                          study_name        date  time  year  \\\n",
       "0  Adélie penguins, Sphenisciforms, foraging acti...  2021-05-20  None  2018   \n",
       "1  Adélie penguins, Sphenisciforms, foraging acti...  2021-05-20  None  2018   \n",
       "2  Adélie penguins, Sphenisciforms, foraging acti...  2021-05-20  None  2018   \n",
       "3  Adélie penguins, Sphenisciforms, foraging acti...  2021-05-20  None  2018   \n",
       "4  Adélie penguins, Sphenisciforms, foraging acti...  2021-05-20  None  2018   \n",
       "\n",
       "                      geometry  \n",
       "0  POINT (139.74282 -66.57103)  \n",
       "1  POINT (139.74310 -66.57141)  \n",
       "2  POINT (139.74364 -66.57182)  \n",
       "3  POINT (139.74420 -66.57211)  \n",
       "4  POINT (139.74433 -66.57228)  "
      ]
     },
     "execution_count": 2,
     "metadata": {},
     "output_type": "execute_result"
    }
   ],
   "source": [
    "# reading data\n",
    "fp = r'data/penguin-tracks.geojson'\n",
    "file = open(fp)\n",
    "geodata = gpd.read_file(file, driver='GeoJSON')\n",
    "\n",
    "geodata.head()"
   ]
  },
  {
   "cell_type": "code",
   "execution_count": 3,
   "id": "4762d9ff",
   "metadata": {},
   "outputs": [],
   "source": [
    "geodata['timestamp'] = pd.to_datetime(geodata['timestamp'])\n",
    "geodata['year'] = pd.DatetimeIndex(geodata['timestamp']).year\n",
    "geodata['t'] = geodata['timestamp'].astype(str)"
   ]
  },
  {
   "cell_type": "code",
   "execution_count": 4,
   "id": "6969bd9a",
   "metadata": {},
   "outputs": [
    {
     "name": "stdout",
     "output_type": "stream",
     "text": [
      "Penguins:  16\n",
      "Time period:  2018-01-01 00:00:00 to  2018-01-11 14:24:58\n"
     ]
    }
   ],
   "source": [
    "print('Penguins: ', geodata['tag_ident'].nunique())\n",
    "print('Time period: ', geodata['timestamp'].min(), 'to ', geodata['timestamp'].max())"
   ]
  },
  {
   "cell_type": "code",
   "execution_count": 5,
   "id": "d7f330dc",
   "metadata": {},
   "outputs": [],
   "source": [
    "# subset\n",
    "geodata = geodata.loc[geodata['year']==2018]"
   ]
  },
  {
   "cell_type": "code",
   "execution_count": 6,
   "id": "94a72b9e",
   "metadata": {},
   "outputs": [
    {
     "name": "stdout",
     "output_type": "stream",
     "text": [
      "Penguins:  16\n",
      "Time period:  2018-01-01 00:00:00 to  2018-01-11 14:24:58\n"
     ]
    }
   ],
   "source": [
    "print('Penguins: ', geodata['tag_ident'].nunique())\n",
    "print('Time period: ', geodata['timestamp'].min(), 'to ', geodata['timestamp'].max())"
   ]
  },
  {
   "cell_type": "code",
   "execution_count": 7,
   "id": "b8fc5458",
   "metadata": {},
   "outputs": [
    {
     "data": {
      "text/html": [
       "<div>\n",
       "<style scoped>\n",
       "    .dataframe tbody tr th:only-of-type {\n",
       "        vertical-align: middle;\n",
       "    }\n",
       "\n",
       "    .dataframe tbody tr th {\n",
       "        vertical-align: top;\n",
       "    }\n",
       "\n",
       "    .dataframe thead th {\n",
       "        text-align: right;\n",
       "    }\n",
       "</style>\n",
       "<table border=\"1\" class=\"dataframe\">\n",
       "  <thead>\n",
       "    <tr style=\"text-align: right;\">\n",
       "      <th></th>\n",
       "      <th>timestamp</th>\n",
       "      <th>long</th>\n",
       "      <th>lat</th>\n",
       "      <th>comments</th>\n",
       "      <th>migration_</th>\n",
       "      <th>tag_tech_s</th>\n",
       "      <th>sensor_typ</th>\n",
       "      <th>individual</th>\n",
       "      <th>tag_ident</th>\n",
       "      <th>ind_ident</th>\n",
       "      <th>study_name</th>\n",
       "      <th>date</th>\n",
       "      <th>time</th>\n",
       "      <th>year</th>\n",
       "      <th>geometry</th>\n",
       "      <th>t</th>\n",
       "    </tr>\n",
       "  </thead>\n",
       "  <tbody>\n",
       "    <tr>\n",
       "      <th>0</th>\n",
       "      <td>2018-01-01 00:43:00</td>\n",
       "      <td>139.74282</td>\n",
       "      <td>-66.57103</td>\n",
       "      <td>2017-2018</td>\n",
       "      <td>Chick-rearing</td>\n",
       "      <td>AxyTrek</td>\n",
       "      <td>gps</td>\n",
       "      <td>None</td>\n",
       "      <td>2018_C15</td>\n",
       "      <td>2018_C15</td>\n",
       "      <td>Adélie penguins, Sphenisciforms, foraging acti...</td>\n",
       "      <td>2021-05-20</td>\n",
       "      <td>None</td>\n",
       "      <td>2018</td>\n",
       "      <td>POINT (139.74282 -66.57103)</td>\n",
       "      <td>2018-01-01 00:43:00</td>\n",
       "    </tr>\n",
       "    <tr>\n",
       "      <th>1</th>\n",
       "      <td>2018-01-01 00:44:00</td>\n",
       "      <td>139.74310</td>\n",
       "      <td>-66.57141</td>\n",
       "      <td>2017-2018</td>\n",
       "      <td>Chick-rearing</td>\n",
       "      <td>AxyTrek</td>\n",
       "      <td>gps</td>\n",
       "      <td>None</td>\n",
       "      <td>2018_C15</td>\n",
       "      <td>2018_C15</td>\n",
       "      <td>Adélie penguins, Sphenisciforms, foraging acti...</td>\n",
       "      <td>2021-05-20</td>\n",
       "      <td>None</td>\n",
       "      <td>2018</td>\n",
       "      <td>POINT (139.74310 -66.57141)</td>\n",
       "      <td>2018-01-01 00:44:00</td>\n",
       "    </tr>\n",
       "    <tr>\n",
       "      <th>2</th>\n",
       "      <td>2018-01-01 00:45:00</td>\n",
       "      <td>139.74364</td>\n",
       "      <td>-66.57182</td>\n",
       "      <td>2017-2018</td>\n",
       "      <td>Chick-rearing</td>\n",
       "      <td>AxyTrek</td>\n",
       "      <td>gps</td>\n",
       "      <td>None</td>\n",
       "      <td>2018_C15</td>\n",
       "      <td>2018_C15</td>\n",
       "      <td>Adélie penguins, Sphenisciforms, foraging acti...</td>\n",
       "      <td>2021-05-20</td>\n",
       "      <td>None</td>\n",
       "      <td>2018</td>\n",
       "      <td>POINT (139.74364 -66.57182)</td>\n",
       "      <td>2018-01-01 00:45:00</td>\n",
       "    </tr>\n",
       "    <tr>\n",
       "      <th>3</th>\n",
       "      <td>2018-01-01 00:46:00</td>\n",
       "      <td>139.74420</td>\n",
       "      <td>-66.57211</td>\n",
       "      <td>2017-2018</td>\n",
       "      <td>Chick-rearing</td>\n",
       "      <td>AxyTrek</td>\n",
       "      <td>gps</td>\n",
       "      <td>None</td>\n",
       "      <td>2018_C15</td>\n",
       "      <td>2018_C15</td>\n",
       "      <td>Adélie penguins, Sphenisciforms, foraging acti...</td>\n",
       "      <td>2021-05-20</td>\n",
       "      <td>None</td>\n",
       "      <td>2018</td>\n",
       "      <td>POINT (139.74420 -66.57211)</td>\n",
       "      <td>2018-01-01 00:46:00</td>\n",
       "    </tr>\n",
       "    <tr>\n",
       "      <th>4</th>\n",
       "      <td>2018-01-01 00:47:00</td>\n",
       "      <td>139.74433</td>\n",
       "      <td>-66.57228</td>\n",
       "      <td>2017-2018</td>\n",
       "      <td>Chick-rearing</td>\n",
       "      <td>AxyTrek</td>\n",
       "      <td>gps</td>\n",
       "      <td>None</td>\n",
       "      <td>2018_C15</td>\n",
       "      <td>2018_C15</td>\n",
       "      <td>Adélie penguins, Sphenisciforms, foraging acti...</td>\n",
       "      <td>2021-05-20</td>\n",
       "      <td>None</td>\n",
       "      <td>2018</td>\n",
       "      <td>POINT (139.74433 -66.57228)</td>\n",
       "      <td>2018-01-01 00:47:00</td>\n",
       "    </tr>\n",
       "  </tbody>\n",
       "</table>\n",
       "</div>"
      ],
      "text/plain": [
       "            timestamp       long       lat   comments     migration_  \\\n",
       "0 2018-01-01 00:43:00  139.74282 -66.57103  2017-2018  Chick-rearing   \n",
       "1 2018-01-01 00:44:00  139.74310 -66.57141  2017-2018  Chick-rearing   \n",
       "2 2018-01-01 00:45:00  139.74364 -66.57182  2017-2018  Chick-rearing   \n",
       "3 2018-01-01 00:46:00  139.74420 -66.57211  2017-2018  Chick-rearing   \n",
       "4 2018-01-01 00:47:00  139.74433 -66.57228  2017-2018  Chick-rearing   \n",
       "\n",
       "  tag_tech_s sensor_typ individual tag_ident ind_ident  \\\n",
       "0    AxyTrek        gps       None  2018_C15  2018_C15   \n",
       "1    AxyTrek        gps       None  2018_C15  2018_C15   \n",
       "2    AxyTrek        gps       None  2018_C15  2018_C15   \n",
       "3    AxyTrek        gps       None  2018_C15  2018_C15   \n",
       "4    AxyTrek        gps       None  2018_C15  2018_C15   \n",
       "\n",
       "                                          study_name        date  time  year  \\\n",
       "0  Adélie penguins, Sphenisciforms, foraging acti...  2021-05-20  None  2018   \n",
       "1  Adélie penguins, Sphenisciforms, foraging acti...  2021-05-20  None  2018   \n",
       "2  Adélie penguins, Sphenisciforms, foraging acti...  2021-05-20  None  2018   \n",
       "3  Adélie penguins, Sphenisciforms, foraging acti...  2021-05-20  None  2018   \n",
       "4  Adélie penguins, Sphenisciforms, foraging acti...  2021-05-20  None  2018   \n",
       "\n",
       "                      geometry                    t  \n",
       "0  POINT (139.74282 -66.57103)  2018-01-01 00:43:00  \n",
       "1  POINT (139.74310 -66.57141)  2018-01-01 00:44:00  \n",
       "2  POINT (139.74364 -66.57182)  2018-01-01 00:45:00  \n",
       "3  POINT (139.74420 -66.57211)  2018-01-01 00:46:00  \n",
       "4  POINT (139.74433 -66.57228)  2018-01-01 00:47:00  "
      ]
     },
     "execution_count": 7,
     "metadata": {},
     "output_type": "execute_result"
    }
   ],
   "source": [
    "geodata.head()"
   ]
  },
  {
   "cell_type": "code",
   "execution_count": 8,
   "id": "912cc1f5",
   "metadata": {},
   "outputs": [
    {
     "data": {
      "text/plain": [
       "<AxesSubplot:>"
      ]
     },
     "execution_count": 8,
     "metadata": {},
     "output_type": "execute_result"
    },
    {
     "data": {
      "image/png": "[encoded data removed]",
      "text/plain": [
       "<Figure size 1152x720 with 1 Axes>"
      ]
     },
     "metadata": {
      "needs_background": "light"
     },
     "output_type": "display_data"
    }
   ],
   "source": [
    "geodata.plot(column='ind_ident', figsize=(16,10), markersize=0.2)\n",
    "# plt.axis('off')"
   ]
  },
  {
   "cell_type": "code",
   "execution_count": 9,
   "id": "cf6697a6",
   "metadata": {},
   "outputs": [
    {
     "data": {
      "text/plain": [
       "'WGS 84'"
      ]
     },
     "execution_count": 9,
     "metadata": {},
     "output_type": "execute_result"
    }
   ],
   "source": [
    "geodata.crs.name"
   ]
  },
  {
   "cell_type": "code",
   "execution_count": 10,
   "id": "9eaa078c",
   "metadata": {},
   "outputs": [],
   "source": [
    "# create world layer\n",
    "world = gpd.read_file(gpd.datasets.get_path('naturalearth_lowres'))"
   ]
  },
  {
   "cell_type": "code",
   "execution_count": 11,
   "id": "5267fb70",
   "metadata": {},
   "outputs": [],
   "source": [
    "# define center of Orthographic Projection\n",
    "lat = -90\n",
    "lon = 0\n",
    "\n",
    "ortho = CRS.from_proj4(\"+proj=ortho +lat_0={} +lon_0={} +x_0=0 +y_0=0 +a=6370997 +b=6370997 +units=m +no_defs\".format(lat, lon))"
   ]
  },
  {
   "cell_type": "code",
   "execution_count": 12,
   "id": "a67783fc",
   "metadata": {},
   "outputs": [
    {
     "data": {
      "text/plain": [
       "<AxesSubplot:>"
      ]
     },
     "execution_count": 12,
     "metadata": {},
     "output_type": "execute_result"
    },
    {
     "data": {
      "image/png": "[encoded data removed]",
      "text/plain": [
       "<Figure size 864x432 with 1 Axes>"
      ]
     },
     "metadata": {
      "needs_background": "light"
     },
     "output_type": "display_data"
    }
   ],
   "source": [
    "# Re-project and plot\n",
    "geodataor = geodata.to_crs(ortho)\n",
    "world = world.to_crs(ortho)\n",
    "world.plot(figsize=(12,6))\n"
   ]
  },
  {
   "cell_type": "code",
   "execution_count": 13,
   "id": "27769a8c",
   "metadata": {},
   "outputs": [],
   "source": [
    "# geodata['x'] = [xcoor.x for xcoor in geodata['geometry'].to_list()]\n",
    "# geodata['y'] = [xcoor.y for xcoor in geodata['geometry'].to_list()]"
   ]
  },
  {
   "cell_type": "code",
   "execution_count": 14,
   "id": "87a5bb70",
   "metadata": {},
   "outputs": [
    {
     "data": {
      "image/svg+xml": [
       "<svg xmlns=\"http://www.w3.org/2000/svg\" xmlns:xlink=\"http://www.w3.org/1999/xlink\" width=\"300\" height=\"300\" viewBox=\"-2635979.753565632 -2298229.5221814737 5405978.5365261 4668588.601162529\" preserveAspectRatio=\"xMinYMin meet\"><g transform=\"matrix(1,0,0,-1,0,72129.55679958081)\"><g><path fill-rule=\"evenodd\" fill=\"#66cc99\" stroke=\"#555555\" stroke-width=\"36039.856910174\" opacity=\"0.6\" d=\"M -990686.90237014,871546.9969530872 L -982897.8314511606,880313.5554907036 L -976749.5602997023,921638.4495683284 L -935533.3405765672,930493.1336241696 L -882727.5869349062,916622.5493446478 L -830210.7912152546,875167.028881954 L -796068.0347655672,842629.9455842102 L -757233.3079806169,802622.2838525122 L -754389.9509422767,757542.3774609983 L -755314.0094769766,716611.5660566534 L -759129.0223165369,674308.0859663185 L -766681.0663783564,632405.3320796958 L -797319.0065495338,604058.5764158258 L -840590.0516961534,607050.1254438378 L -875215.3527283067,636161.4900503248 L -874538.0995247995,686881.3400086375 L -892433.054598523,722901.7544333662 L -920761.7619284943,762679.2339519361 L -945825.7046474512,796060.5918326384 L -966484.6345638819,831103.7205939166 L -990686.9683190346,871547.0549709746 L -990686.90237014,871546.9969530872 z\" /><path fill-rule=\"evenodd\" fill=\"#66cc99\" stroke=\"#555555\" stroke-width=\"36039.856910174\" opacity=\"0.6\" d=\"M -987276.7178950339,433589.0761376744 L -965613.87283162,470175.35570549703 L -937788.0053679594,501084.62706150935 L -970686.9645009898,534986.7780850796 L -999338.2701588216,562865.6653616407 L -950142.4334828607,558067.4763407933 L -904697.447284373,525155.4517423934 L -864472.6898301904,495896.865684111 L -895357.3853307836,470962.70082344697 L -907203.7139589263,432944.79216482595 L -949788.5212366874,428014.720224695 L -953705.8473928666,429780.03241922724 L -987276.7178950339,433589.0761376744 z\" /><path fill-rule=\"evenodd\" fill=\"#66cc99\" stroke=\"#555555\" stroke-width=\"36039.856910174\" opacity=\"0.6\" d=\"M -1965769.3699771657,566802.2817319187 L -1965769.4516773727,566802.305289038 L -1970697.2251898306,593850.4263301266 L -1954397.2828816809,632205.6653353898 L -2001990.1843261474,658958.0879577667 L -2038364.1460712901,673249.2182030512 L -2118268.3154935744,698836.6393753989 L -2157530.2796354257,735583.6636777079 L -2160743.1139195007,775647.6229023872 L -2117225.5445124866,782158.6974402437 L -2077693.4450270056,777254.9781024167 L -2027852.2026206031,776044.1585875939 L -1981252.3112036032,771440.723226701 L -1933539.4964652944,763538.7740392957 L -1887887.3026183217,749990.5427543581 L -1851709.2535168917,729029.5915434731 L -1818473.7436807947,705912.9006357411 L -1818924.9146443617,663491.9930237654 L -1811859.5743799733,621190.1587433921 L -1827589.8487610386,580162.2550977827 L -1862023.773627872,608657.139603816 L -1860226.5058476885,566115.6277307648 L -1856919.6533111834,525803.9717195157 L -1893820.2753792705,509081.3122814605 L -1936346.0090124977,518385.070061085 L -1965769.3699771657,566802.2817319187 z\" /><path fill-rule=\"evenodd\" fill=\"#66cc99\" stroke=\"#555555\" stroke-width=\"36039.856910174\" opacity=\"0.6\" d=\"M -1934260.636430377,-422823.7132684629 L -1934260.719799674,-422823.73149274715 L -1957013.9256190704,-405419.4282317842 L -1951285.9221216266,-359216.5332201853 L -1951569.2001992953,-308454.0203726906 L -1942743.634287445,-269050.69897977414 L -1959884.1375553252,-233283.53771958506 L -1902353.1555172645,-206673.44141502018 L -1907595.072668379,-233674.55536343035 L -1898103.8725360592,-273456.1300342592 L -1895871.9690018783,-314947.9897473807 L -1881796.5564475418,-358408.75794493826 L -1895459.8555710735,-396046.70510934165 L -1934260.636430377,-422823.7132684629 z\" /><path fill-rule=\"evenodd\" fill=\"#66cc99\" stroke=\"#555555\" stroke-width=\"36039.856910174\" opacity=\"0.6\" d=\"M -1509841.0460280017,-966390.8202092617 L -1509841.1049739975,-966390.8879327861 L -1543452.010698239,-979740.4176392026 L -1547469.5178333083,-937605.8417038759 L -1553738.0258319858,-894119.3582570017 L -1588538.6965925246,-870569.7411363327 L -1547004.8850689142,-867858.8635283516 L -1509039.474117883,-879418.2750746647 L -1494385.10297048,-920172.863646928 L -1509841.0460280017,-966390.8202092617 z\" /><path fill-rule=\"evenodd\" fill=\"#66cc99\" stroke=\"#555555\" stroke-width=\"36039.856910174\" opacity=\"0.6\" d=\"M -1442943.755305389,-1098557.2937803832 L -1442943.8083051129,-1098557.3662520016 L -1475167.0860356712,-1093897.7267588587 L -1473634.2057283593,-1053446.2931072495 L -1466536.0465644116,-990378.8135279418 L -1459745.460931206,-1007743.1769665065 L -1445111.8939842996,-1046554.8238862059 L -1442943.755305389,-1098557.2937803832 z\" /><path fill-rule=\"evenodd\" fill=\"#66cc99\" stroke=\"#555555\" stroke-width=\"36039.856910174\" opacity=\"0.6\" d=\"M -353296.77938988677,-1209190.97788619 L -353296.8040726294,-1209191.0623651645 L -377875.0867750281,-1244186.2297351507 L -412583.1339566437,-1215090.248234301 L -422157.8219775014,-1175562.290964039 L -424304.11507489823,-1133791.3379739276 L -412246.08965316974,-1085712.6026423152 L -370798.736805885,-1084719.3418687354 L -357494.4874029738,-1129690.7246659233 L -357132.8395887633,-1170130.5456860126 L -358201.20921372937,-1176513.1636948222 L -353296.77938988677,-1209190.97788619 z\" /><path fill-rule=\"evenodd\" fill=\"#66cc99\" stroke=\"#555555\" stroke-width=\"36039.856910174\" opacity=\"0.6\" d=\"M 7.188815007904433e-11,-587011.2927996519 L 4.7774825380296733e-26,-3.901110541713695e-10 L -3.9426304498177363e-25,-3.901110541713695e-10 L -5.932589124639666e-10,-587011.2927996519 L -588.2140962956528,-586118.1999666223 L -10687.220216094394,-650443.8291931815 L -29474.260343511847,-615136.6260977285 L -30912.387468374785,-618943.4195816129 L -44722.9756865306,-653444.213103975 L -46202.82363491915,-652100.5048679677 L -47478.30152190066,-651180.9299649171 L -59401.04343941027,-603919.6324931618 L -78251.1432406181,-648203.3255444738 L -81602.76614787107,-654132.057026955 L -118424.96161802775,-668293.9364263368 L -124581.12574396127,-640913.6726375449 L -127203.84622265291,-626918.0186639309 L -135380.62808747924,-587431.5516839011 L -156632.2181093387,-552868.7993156028 L -167467.4791026548,-513270.47906357946 L -191893.71463430714,-476662.45510498976 L -228349.28556286043,-494017.6962287415 L -253787.73827525767,-456756.01625466783 L -254621.4698868022,-416043.344669335 L -291815.3840200391,-430830.00464806263 L -330624.9024583298,-440474.59561178385 L -363696.5230700407,-480758.340002417 L -332206.92851872614,-508227.9672309745 L -316014.6863636285,-548695.8168248197 L -328995.1920271617,-591158.7928507541 L -311558.8740469898,-627251.9298216442 L -335771.9742768001,-670810.8227530563 L -360714.8537980334,-709097.6295892578 L -384166.6091648098,-743215.1640037968 L -402304.2966445926,-784871.1423749998 L -392320.03365102713,-823488.5856762112 L -397526.50526949594,-863894.5555909919 L -387608.30149935675,-905992.9232368999 L -422861.2260458705,-882926.9140470803 L -466181.824855033,-880377.3617461357 L -470357.2144448746,-836397.1465307551 L -512842.85693505296,-849009.7555392744 L -559137.27713532,-868301.6595366454 L -591458.3849985482,-890815.0016506312 L -610669.5811474253,-932145.5145515996 L -605367.5242636454,-971163.0907578309 L -596565.1816549544,-1014057.3613687698 L -562848.7562297054,-1040464.1539135822 L -536564.5363461605,-1071042.694351641 L -504482.6504291898,-1098306.9097687604 L -508600.84265196923,-1141031.8368340612 L -495933.49917224486,-1183727.2840807398 L -494051.9666670986,-1226009.657313676 L -532817.7707459088,-1343355.1680955947 L -540279.6078665529,-1328916.0455248787 L -547813.3838131655,-1288976.73845598 L -589031.9884374577,-1282378.8933579945 L -630888.6065069317,-1278912.189318937 L -627898.3731375742,-1228090.9605798505 L -666756.6830640725,-1219562.4408762706 L -706614.6429326532,-1223988.6459496731 L -748641.5575175221,-1233649.605890529 L -792263.6321194572,-1249009.130727408 L -830768.9714528153,-1236520.1836664574 L -852332.5881422681,-1270488.5940734015 L -866662.0505253858,-1309189.4657940469 L -894492.2441726261,-1336293.1007052949 L -935315.654118932,-1331294.8445995422 L -928013.6144498773,-1292516.3621451454 L -974894.5903720163,-1284113.3501218536 L -1017592.5840117553,-1285668.2409069396 L -1050701.7348012775,-1261494.559618302 L -1087085.4891970528,-1244289.0714151505 L -1133175.9709092926,-1236913.2566584304 L -1172159.6012034342,-1232132.7620121958 L -1214270.700004528,-1223400.245895681 L -1226391.8067577777,-1202280.2738575616 L -1234623.582108238,-1181715.5150766473 L -1275773.237948088,-1159122.141917128 L -1288103.1065859094,-1116786.3094628218 L -1316073.1241189812,-1086982.787910658 L -1352156.8466833327,-1065649.8786290025 L -1368522.2888769526,-1027165.3772309788 L -1386187.0383123902,-985187.6819834484 L -1413170.9775038913,-953608.4429893418 L -1435069.9866445942,-916430.4445624606 L -1456589.552265622,-877756.3159259128 L -1480825.2013274936,-844735.4599596541 L -1523213.053756372,-833387.0389790512 L -1555404.7273577582,-808650.7660900778 L -1552039.5392341567,-764247.0435858796 L -1584733.2803616768,-739699.1298826558 L -1632794.6037337158,-725066.918724926 L -1610110.865302679,-693356.2784162204 L -1579595.781154445,-668724.537397409 L -1554003.1360179395,-637314.0802319896 L -1594654.9391517278,-620481.7421762472 L -1569758.1657240558,-573403.9827983096 L -1570893.8904207514,-532173.8835579512 L -1553206.7412979926,-491493.5172588386 L -1570898.1417391365,-454876.59057393426 L -1598928.2683517034,-424727.0197629888 L -1605460.0857993693,-381525.5980538463 L -1599594.6229470228,-340486.0152937432 L -1588652.7454932188,-298615.1312689663 L -1636940.687437114,-292075.83016765164 L -1668640.8510704553,-317194.9272877118 L -1702914.2342312692,-338814.2185986494 L -1703017.3555605882,-378963.9096202262 L -1737920.9979638823,-404852.58999837865 L -1775022.8284458346,-420538.23923597834 L -1849323.5928280547,-450176.7153354987 L -1840969.5204898124,-422229.6315051388 L -1844043.1076832532,-378703.4326216553 L -1858257.2301742262,-338122.3204680055 L -1848360.5233542435,-297296.3313826927 L -1822400.6680984234,-259979.02609750893 L -1787062.5285888396,-241240.39184833653 L -1786020.7247707807,-198333.24042214855 L -1804609.6608783808,-159278.17723725623 L -1828740.4857771576,-117391.01943843812 L -1843349.1955657143,-78516.29538866486 L -1819421.1332922853,-45119.10233586454 L -1828330.2683433227,-2831.5153160887817 L -1909393.5124134477,25763.569936587475 L -1860996.173680384,51203.78551263112 L -1840841.888605804,87831.48274925767 L -1848880.9544933722,128805.73706958289 L -1805250.9353482143,151837.4996633028 L -1797147.8508998523,192694.50302945226 L -1780223.910837581,229136.9373582128 L -1752304.7131736176,262793.21273392113 L -1787748.4160760816,293157.2388617899 L -1822734.6624344806,311703.5560140697 L -1776004.1859632095,335679.46158930205 L -1777677.4352232844,380261.9467005449 L -1748251.2281828215,406593.84148927836 L -1708715.740303758,419009.03481743985 L -1708616.45273455,461338.4815327948 L -1722087.2137369486,498617.4104960335 L -1738902.6666677704,537165.2534573465 L -1740992.6075637855,578502.7623829084 L -1738009.448758415,625412.0793599506 L -1737299.798743818,669117.3255779158 L -1746843.4193080603,707309.4361094377 L -1770209.712842379,737988.9696689523 L -1809236.0085313322,762984.9865851955 L -1850893.2134469224,776085.122982242 L -1893296.3138602194,781716.1125321871 L -1936263.607057989,785547.2094892573 L -1978712.6673968537,790193.3155086288 L -2016556.0236623995,794934.0569716712 L -2055461.8909618391,807836.4778842751 L -2092043.1626807803,826344.3177041446 L -2121057.6412808322,857986.5543259013 L -2154564.6281495136,888729.4323374907 L -2189522.3143844577,910162.0800237998 L -2233698.681182786,919584.7734425969 L -2272847.4831245355,930254.7968373088 L -2307386.9597089537,967494.3315927271 L -2325598.932329841,1001407.93177599 L -2348821.8482228476,1042973.2776242148 L -2365143.2455034386,1084279.1450313681 L -2376621.855049882,1130116.078653604 L -2408066.8575119525,1165321.5366618834 L -2421580.8515712633,1200600.507372458 L -2431136.119116792,1238651.1971863082 L -2415262.1249310905,1281964.5050931422 L -2428708.0222345637,1323353.835315411 L -2429344.904734854,1362735.4077577142 L -2419695.7578748716,1403366.966068005 L -2423582.7159929452,1446891.142930427 L -2435758.3262868873,1487110.831622989 L -2425083.87248917,1526498.244708456 L -2388005.69855714,1537573.970574032 L -2369909.005996441,1504237.7776008917 L -2371191.4714685897,1446578.1958627438 L -2363490.0374424956,1417598.745862421 L -2395279.094591329,1394682.2578313022 L -2406503.941165362,1355335.3093815194 L -2401860.7684016963,1315121.1689272576 L -2395689.224580156,1272625.4836532255 L -2380211.5339182196,1238438.8229700094 L -2348005.7126926635,1214551.4977526572 L -2313274.8789212257,1199593.5410712957 L -2273440.3868853212,1202704.8597669648 L -2266366.875307722,1164476.0298495018 L -2278005.3226077575,1123600.9431624552 L -2258005.4374850835,1086990.7147843027 L -2239984.2569943075,1050158.1901960652 L -2211070.710320374,1007250.3600950793 L -2178903.087309018,985411.5231366848 L -2134213.247114609,981062.3135581836 L -2095712.9897947526,986895.3483409334 L -2059432.3194188657,1006183.5125893643 L -2016768.1347862852,1018862.1916224068 L -1973123.9170632923,1014659.4385780186 L -1934807.063620209,1004172.199807688 L -1893340.099080269,995006.6502792675 L -1854330.8140613649,994005.9126410381 L -1814829.2663473922,984842.6326944074 L -1727192.5654045993,942642.1980101629 L -1687837.1945593199,932429.0414045658 L -1650193.4316177722,914579.3190663102 L -1608832.4161499788,903193.9560135178 L -1561755.1850775867,871856.771545896 L -1531439.9050954427,835807.1399650081 L -1508461.2178438075,803300.5056215384 L -1513595.9637678463,761418.3217543341 L -1485597.0114618237,732754.3033687843 L -1461011.1254676476,701478.5452058099 L -1442403.5593765168,646397.3058704549 L -1441464.1890349719,606148.3717396645 L -1432759.3122429752,565931.2089873631 L -1423872.7311849087,523947.38518125366 L -1389122.0307672408,489167.3630573103 L -1398251.0923195577,448746.9203399329 L -1415466.515712619,406693.08863038634 L -1417969.1992946493,365234.1566278452 L -1428092.1837314551,323396.58947040007 L -1384955.858023011,321601.958856008 L -1357394.3966732093,353592.6175773181 L -1321586.8322741138,371907.5225764053 L -1280666.2823783583,375557.9646385499 L -1254829.7910624964,341575.6706908839 L -1274904.367324722,306169.2316297146 L -1255025.3431737912,268461.7415385272 L -1211431.528416729,257836.60389874355 L -1169762.2355797307,248133.14548152604 L -1128980.5845049068,263789.11893936567 L -1088355.8926809984,258616.12073345922 L -1042884.0368246278,272426.6615965687 L -1015661.3821142697,305778.90844595374 L -977021.5975793794,327989.02678308426 L -936188.4137473914,340501.1701380748 L -892909.6717172281,357289.41400134866 L -860851.3786731147,388611.9151147333 L -816518.8624979528,411451.6274878859 L -775472.3263069717,420135.8451308233 L -729735.64355354,426569.7609176377 L -678024.317056191,412048.8040429935 L -639543.331171779,396186.25103748747 L -663659.3198695284,430851.7463288115 L -677690.3057944715,468155.2650028044 L -690957.7571287957,509050.0651592145 L -694032.8833741375,551196.0380985322 L -699606.9393408133,592023.1244884654 L -674837.0777846865,623290.4747038156 L -636956.0604380845,640843.0987746489 L -596406.1068481656,643871.4564399386 L -620956.1805590797,685732.1651603522 L -625241.882625499,725080.2396491016 L -594002.7578157932,753629.0994994575 L -581649.9849818626,792786.6874983894 L -568694.479452408,830980.4953157657 L -546264.7080163263,863761.6223071212 L -522205.2583362694,900956.5152470062 L -511036.20514973934,939263.7464402947 L -541442.3918131394,966620.9900624624 L -567812.42675874,996054.459923863 L -587966.3477294977,1031408.3935854906 L -620283.923643193,1007279.619588443 L -646531.3732302075,970117.801591843 L -679309.5348130525,947454.4429408743 L -707692.606862187,977132.3883106399 L -752821.1743687928,1044695.5996873417 L -758155.1461223012,1069729.6474477332 L -745490.0774592439,1109541.6898678108 L -726171.6940981769,1152589.178919698 L -718016.6362923527,1195072.450550803 L -708361.5059870043,1237683.6423919639 L -709311.7161706764,1285829.228548807 L -687152.5168920583,1319346.9255366325 L -662383.6278316774,1348497.0118494579 L -649843.0742556456,1363966.533983984 L -614495.0280101905,1384888.5357996104 L -584448.1288477327,1413871.4556727884 L -561520.5345196722,1445837.8097919938 L -539426.730379332,1481228.1504767593 L -519180.80114258005,1515234.2367115442 L -492409.0884942011,1559540.6291405007 L -478606.77186222863,1601208.413753167 L -460800.6536260873,1639186.8056773867 L -463534.77477416577,1681968.2728013296 L -501624.06715417997,1697226.1700639313 L -503357.94830896746,1742465.2849083175 L -491967.61414498684,1780388.996712616 L -464819.09889753,1809196.588619942 L -435853.7565191247,1842071.7281302277 L -410124.2679171685,1882024.2978348667 L -392631.2771909105,1928110.2540129253 L -385635.32580871694,1980151.3361431777 L -365728.5054662643,2013318.0191105164 L -322689.6647484894,2014390.3448750088 L -300204.5260271467,1982346.64399556 L -258271.68396310412,1984075.067427084 L -261956.1871518531,2023184.6275795032 L -248896.19217456997,2066373.1013144595 L -208964.29892804276,2060439.806544809 L -196024.58527234182,2022334.8675113008 L -153347.29760874723,2019806.8467924069 L -108730.21467154924,2041304.8712455314 L -64437.044010791906,2055571.2984992927 L -23600.00323504732,2050255.0582696504 L -8008.907984784124,2007000.165194594 L 30943.031864301924,2041901.3736432116 L 67844.39177242243,2059585.8319167716 L 109422.53561012076,2072240.5891684676 L 150817.81851598466,2084095.7655471722 L 190057.66574784816,2105666.913435156 L 232842.13549360159,2117898.4479738562 L 267474.6233625699,2136553.961951791 L 295067.574065946,2170137.65170231 L 319301.60302402405,2139789.7780900598 L 360387.06143532216,2147799.670917981 L 378766.1811345907,2094636.7815047826 L 392566.30765983416,2054432.8549336821 L 437480.11416066805,2066369.536920055 L 462532.2066726617,2102966.824337788 L 506498.6469822229,2122315.830729769 L 553406.4637408023,2104222.6344309263 L 557614.823743625,2062781.8580238838 L 597876.3805728026,2092021.8552669792 L 640697.8992458044,2092155.4154170593 L 684747.3341244586,2082461.2488485985 L 722395.5331652825,2067536.4553651828 L 758264.5481310145,2041557.5268635072 L 794264.6703104123,2021220.4978005975 L 797805.062320042,1982299.2629740885 L 808288.2879671974,1944714.3938371832 L 852790.1827998132,1945829.802152451 L 894243.1188188778,1931656.364586901 L 932362.0586137824,1913548.5512684188 L 970403.3309573241,1896846.5070369348 L 1010089.961781348,1892320.1505442688 L 1050841.16742156,1884099.1786380403 L 1094050.8423050425,1892541.6408762906 L 1134427.9428540003,1890116.7801587568 L 1173257.518184679,1878321.3985033764 L 1213656.6241633086,1886547.2424465646 L 1262951.7236960656,1922481.6036187082 L 1301172.7057368758,1938510.4451828839 L 1326797.2326303206,1901318.4236370255 L 1318627.9374642319,1862351.081178968 L 1332074.8879355905,1822583.912834667 L 1369801.1496822755,1804644.1048909724 L 1369359.7797285116,1758696.6133264073 L 1375501.5206206064,1720017.1248621151 L 1421506.177240595,1714165.9743340444 L 1460869.3961825548,1739736.0984263364 L 1500034.5860952537,1730383.4912174994 L 1554221.2340690773,1728597.1955394335 L 1593208.6623267145,1712175.9291065447 L 1642084.0518919562,1693678.3271552348 L 1680790.5070029153,1686827.3462829394 L 1722182.5324064405,1679438.5258091302 L 1761070.944853922,1670998.6691439631 L 1779343.4776104777,1633702.1584579726 L 1831891.7735250376,1629610.2260797163 L 1871383.3640540414,1627300.0331800035 L 1896296.8599146737,1595083.9777313052 L 1937638.0304431103,1582920.947640637 L 1971009.6013276805,1598980.5857283357 L 2016263.7773276514,1587124.858955388 L 2054676.0912238837,1570115.5853957967 L 2094554.9965922795,1543503.5478905812 L 2125555.764178916,1514267.071287832 L 2143689.6848548437,1478007.4287222016 L 2159370.0968314633,1437125.7094460444 L 2155865.0071984055,1391592.9751242448 L 2121275.5520221004,1364137.9313460882 L 2113083.948010771,1313367.9504314428 L 2102850.1819883985,1276316.633890187 L 2118565.25620128,1226147.7276722023 L 2108109.1730685327,1187605.3956454108 L 2100138.198527365,1143710.6631056494 L 2113627.6628029924,1105565.5511496551 L 2146934.4200939173,1084941.9490063975 L 2201053.4562809817,1071037.1970442694 L 2198265.7272929614,1025420.975177306 L 2204419.7859255164,982775.1740656398 L 2209114.6066300576,941726.6034224192 L 2217404.2978454647,900794.2912741699 L 2232771.1374865123,862000.7093401143 L 2144175.075559271,792617.4285480472 L 2118816.041190215,784890.0933264431 L 2073233.226522484,772843.8154309606 L 2035249.778008647,797759.0169436178 L 1988099.8032859955,810812.8753414351 L 1951960.2250651268,790629.6919710054 L 1968918.9103829288,753183.999119538 L 1928690.2494927903,743092.2174449487 L 1885553.5327107003,745782.603833495 L 1839118.4898793849,744923.8291231084 L 1817990.8023854655,708301.7060585151 L 1822164.7532943331,667924.6794680146 L 1852920.2947683893,637111.2089917806 L 1898230.0833930292,632440.2631273714 L 1939190.8511101229,633589.7128520531 L 1976626.185662419,624949.1950231597 L 2012885.9641845783,612274.9525593444 L 2051016.3609042368,613929.1916490007 L 2105799.434296137,609206.4568475009 L 2122190.550690632,588872.3202935667 L 2137406.8881293894,547697.0569206929 L 2158561.8783643525,513188.4504300606 L 2183292.9849398653,478234.5763656752 L 2227185.7652147203,467939.6359392034 L 2267392.408478387,464258.89991650084 L 2310604.1066902466,444372.6317662164 L 2343766.195603123,409342.4002957265 L 2369476.6687135934,378029.426577637 L 2406885.6353614656,360407.59212856484 L 2428273.566539024,339034.5777352785 L 2448321.5176847423,310318.42018048296 L 2443370.83793463,266499.4756586475 L 2457263.255629824,228982.68142579516 L 2472830.0444431547,187863.4199229013 L 2469963.345000555,140152.66808693073 L 2499589.8184938724,110139.01570631978 L 2568390.403324505,90305.55900784911 L 2540990.6611167328,72822.20302816843 L 2493474.8522310574,50994.03248486179 L 2473895.6007374125,14221.556535477705 L 2465752.0453802133,-27129.163416307045 L 2476995.4951104983,-68760.41113658405 L 2467357.4780601053,-112410.52118652032 L 2463177.263321172,-152753.2170497616 L 2471372.73007433,-180420.35911262382 L 2462451.4626680356,-216198.40894032578 L 2437355.666125825,-246781.2663487205 L 2447149.2292297785,-286711.8529006774 L 2441326.4156383816,-332668.5573057576 L 2449567.441039638,-373970.62549870583 L 2428530.8773784973,-415909.6227942633 L 2457094.664235214,-450260.3768056827 L 2486414.5674971286,-478508.974226846 L 2507906.747224055,-513836.71105061757 L 2569777.3556817234,-585367.9864505973 L 2549497.229830631,-611076.6923452737 L 2514150.8544222275,-638165.3398992319 L 2471897.8068564883,-658111.9908892292 L 2397122.183894844,-695591.8694461538 L 2382963.6191002806,-735867.936590699 L 2370834.1621289104,-774055.9448387867 L 2367220.5959569262,-822437.8516440189 L 2364494.575562066,-871644.0383971538 L 2377851.6547872527,-915557.0683532893 L 2394521.630215431,-955024.6708656928 L 2379133.957682936,-1003047.2539800995 L 2385964.3459254005,-1042633.9550790822 L 2353359.779685159,-1066941.4471810155 L 2314845.081161642,-1074383.0975048726 L 2272608.134508107,-1088967.4901039589 L 2254920.8663654136,-1134065.6939662485 L 2218077.6379860044,-1148990.943306683 L 2170731.3695034627,-1182511.8517283024 L 2135630.4097542865,-1224717.2995481302 L 2119990.6651540343,-1267331.3021748895 L 2129787.6485848944,-1313043.9579215213 L 2141444.599832695,-1354830.8469097223 L 2126565.7994319103,-1392714.799886483 L 2092816.5455613837,-1418130.1895172147 L 2058609.2448736753,-1450051.0632425677 L 2047467.2211503398,-1493060.4730571473 L 2023735.2325637108,-1525072.8855930234 L 1992145.261401412,-1549880.7596964347 L 1959190.478274719,-1575414.2837615567 L 1948030.4709760402,-1617530.6871977507 L 1929379.92380415,-1664306.5664737488 L 1902471.394135366,-1701002.464571716 L 1868375.4802460268,-1738384.2655747444 L 1847400.5708035585,-1775091.3515590653 L 1824923.409484757,-1809533.6089837402 L 1851402.2534903034,-1853444.4323877522 L 1879543.23877388,-1884190.987880671 L 1839444.380563078,-1884783.1667325096 L 1801805.8597613606,-1857619.2511462444 L 1762000.3125371935,-1837827.3778143488 L 1725410.0211972236,-1825721.647329066 L 1686194.0207196202,-1837598.148275939 L 1653411.3491564975,-1875177.8203735529 L 1611325.0682290562,-1914082.3879853277 L 1584827.3353745884,-1943842.7825771717 L 1539894.8545738927,-1979627.8143087223 L 1508408.877209722,-2006227.8657365446 L 1459734.261620735,-2036986.316888275 L 1415231.7700243555,-2058438.1538069302 L 1371929.1393204213,-2049019.1745046955 L 1357549.3969886177,-2012626.9052721672 L 1318126.757489329,-2002545.8121015825 L 1267300.773899352,-2006474.7695952528 L 1214352.64196425,-2008267.9825227184 L 1159657.6608467966,-2019341.124770721 L 1103957.0288725581,-2031857.6455987294 L 1060164.772488555,-2036752.6281923875 L 1018671.3662070209,-2055539.9823180193 L 1010399.1796678999,-2098008.094902729 L 966073.500865408,-2087506.7816811705 L 924879.6966065335,-2070481.9165138695 L 883296.6285015851,-2061991.7471793988 L 835580.2595754501,-2070789.5869691486 L 789298.4091712743,-2075770.2861713641 L 757320.6288278089,-2044090.4200776243 L 708565.5460657049,-2035483.737283073 L 669685.9787862878,-2009692.5754844008 L 625508.3964449657,-2006659.8309683474 L 585485.8477752688,-2020840.6281539625 L 545785.0278378155,-2025535.2918337893 L 503925.457856802,-2038471.2148406962 L 459507.0403303146,-2040503.8449430843 L 416767.65860599163,-2034952.3056098493 L 375312.18365383224,-2017846.0796027 L 335287.61548631144,-2003957.626619048 L 305861.9224042978,-1977297.807702743 L 303502.57043862465,-1935745.4639297728 L 315227.9677338001,-1896008.7078102028 L 321908.35919260257,-1846346.3475758564 L 326593.0497262038,-1807410.8828495964 L 333256.6561989928,-1761574.2092983546 L 370023.552515023,-1737111.692277685 L 379588.01064727304,-1696438.9904577946 L 412218.4889111976,-1665049.926025664 L 414879.06470062904,-1621060.29045543 L 423868.7712878156,-1577367.585819876 L 434622.1568425089,-1539428.1070123427 L 433313.0471790202,-1493691.3085330008 L 428580.4763235238,-1453216.8356280266 L 417201.5918099028,-1405769.0628403847 L 405262.9905081862,-1367259.5694794666 L 380016.1330724244,-1330343.776169814 L 364048.30022217275,-1292835.5891722848 L 343332.78047770396,-1258764.1969322124 L 298823.1581134608,-1254729.0818725016 L 279666.95651808503,-1210963.871967765 L 313236.8424127047,-1185040.968766275 L 338101.26754547143,-1153690.5633563832 L 374822.66176880174,-1137779.3841571147 L 371205.828333783,-1073442.2813325722 L 357528.9136212577,-1023684.6843718208 L 351469.28931915044,-982532.1947967296 L 346403.433084735,-940899.5006553576 L 312599.57084427646,-914070.5070526307 L 290200.8275919395,-873866.9899439322 L 264696.896667321,-839051.2874847145 L 236557.0251082765,-809241.7042438455 L 207957.49556242517,-781339.3977591996 L 179306.71427000323,-752891.2765326994 L 142392.7856653194,-725491.5614561327 L 125987.51878089772,-673519.2090365929 L 88798.0088525119,-655380.1303559779 L 85481.08308030534,-647289.5620205819 L 73173.2858079841,-615851.2520232404 L 45389.41101622707,-646774.4590567267 L 18449.39424058793,-613397.3283259992 L 7.188815007904433e-11,-587011.2927996519 z\" /></g></g></svg>"
      ],
      "text/plain": [
       "<shapely.geometry.multipolygon.MultiPolygon at 0x1d032af3ca0>"
      ]
     },
     "execution_count": 14,
     "metadata": {},
     "output_type": "execute_result"
    }
   ],
   "source": [
    "antarctic = list(world.loc[world['continent']=='Antarctica'].geometry)[0]\n",
    "antarctic"
   ]
  },
  {
   "cell_type": "code",
   "execution_count": 15,
   "id": "2ddbe88b",
   "metadata": {},
   "outputs": [],
   "source": [
    "bounds = antarctic.bounds\n",
    "    \n",
    "xmin = bounds[0]\n",
    "xmax = bounds[2]\n",
    "\n",
    "ymin = bounds[1]\n",
    "ymax = bounds[3]\n"
   ]
  },
  {
   "cell_type": "code",
   "execution_count": 16,
   "id": "4d5e7ec7",
   "metadata": {},
   "outputs": [
    {
     "data": {
      "text/plain": [
       "(-2435758.3262868873, 2569777.3556817234, -2098008.094902729, 2170137.65170231)"
      ]
     },
     "execution_count": 16,
     "metadata": {},
     "output_type": "execute_result"
    },
    {
     "data": {
      "image/png": "[encoded data removed]",
      "text/plain": [
       "<Figure size 864x576 with 1 Axes>"
      ]
     },
     "metadata": {
      "needs_background": "light"
     },
     "output_type": "display_data"
    }
   ],
   "source": [
    "# create unique fig, ax\n",
    "fig, ax = plt.subplots(figsize=(12, 8))\n",
    "\n",
    "# adding layers\n",
    "world.plot(ax=ax)\n",
    "geodataor.plot(ax=ax, markersize=10, color='red')\n",
    "\n",
    "# limits\n",
    "ax.set(xlim=(xmin, xmax), ylim=(ymin, ymax))\n",
    "\n",
    "plt.axis('off')"
   ]
  },
  {
   "cell_type": "code",
   "execution_count": 17,
   "id": "594b6c83",
   "metadata": {},
   "outputs": [
    {
     "data": {
      "image/png": "[encoded data removed]",
      "text/plain": [
       "<Figure size 720x504 with 1 Axes>"
      ]
     },
     "metadata": {},
     "output_type": "display_data"
    }
   ],
   "source": [
    "plt.style.use('seaborn')\n",
    "\n",
    "# create unique fig, ax\n",
    "fig, ax = plt.subplots(figsize=(10, 7))\n",
    "\n",
    "# adding layers\n",
    "world.plot(ax=ax, color='#CED7E0', edgecolor='black')\n",
    "geodataor.plot(ax=ax, column = 'ind_ident', markersize=7, alpha=0.8, cmap='tab10', legend=True)\n",
    "\n",
    "# limits\n",
    "ax.set(xlim=(1500000, 1800000), ylim=(-2050000, -1800000))\n",
    "\n",
    "# plt.axis('off')\n",
    "plt.grid(False)\n",
    "ax.set_facecolor('#0F4983')\n",
    "\n",
    "plt.title('Adélie Penguins tracks in Antarctic')\n",
    "\n",
    "ax.get_legend().set_bbox_to_anchor((1.2,1))\n",
    "ax.get_legend().set_title(\"Penguin ID\")\n",
    "\n",
    "plt.savefig(r'png/penguin-tracks.png')"
   ]
  },
  {
   "cell_type": "code",
   "execution_count": 18,
   "id": "dfc0b6b9",
   "metadata": {},
   "outputs": [
    {
     "data": {
      "text/html": [
       "<div>\n",
       "<style scoped>\n",
       "    .dataframe tbody tr th:only-of-type {\n",
       "        vertical-align: middle;\n",
       "    }\n",
       "\n",
       "    .dataframe tbody tr th {\n",
       "        vertical-align: top;\n",
       "    }\n",
       "\n",
       "    .dataframe thead th {\n",
       "        text-align: right;\n",
       "    }\n",
       "</style>\n",
       "<table border=\"1\" class=\"dataframe\">\n",
       "  <thead>\n",
       "    <tr style=\"text-align: right;\">\n",
       "      <th></th>\n",
       "      <th>timestamp</th>\n",
       "      <th>long</th>\n",
       "      <th>lat</th>\n",
       "      <th>comments</th>\n",
       "      <th>migration_</th>\n",
       "      <th>tag_tech_s</th>\n",
       "      <th>sensor_typ</th>\n",
       "      <th>individual</th>\n",
       "      <th>tag_ident</th>\n",
       "      <th>ind_ident</th>\n",
       "      <th>study_name</th>\n",
       "      <th>date</th>\n",
       "      <th>time</th>\n",
       "      <th>year</th>\n",
       "      <th>geometry</th>\n",
       "      <th>t</th>\n",
       "    </tr>\n",
       "  </thead>\n",
       "  <tbody>\n",
       "    <tr>\n",
       "      <th>0</th>\n",
       "      <td>2018-01-01 00:43:00</td>\n",
       "      <td>139.74282</td>\n",
       "      <td>-66.57103</td>\n",
       "      <td>2017-2018</td>\n",
       "      <td>Chick-rearing</td>\n",
       "      <td>AxyTrek</td>\n",
       "      <td>gps</td>\n",
       "      <td>None</td>\n",
       "      <td>2018_C15</td>\n",
       "      <td>2018_C15</td>\n",
       "      <td>Adélie penguins, Sphenisciforms, foraging acti...</td>\n",
       "      <td>2021-05-20</td>\n",
       "      <td>None</td>\n",
       "      <td>2018</td>\n",
       "      <td>POINT (139.74282 -66.57103)</td>\n",
       "      <td>2018-01-01 00:43:00</td>\n",
       "    </tr>\n",
       "    <tr>\n",
       "      <th>1</th>\n",
       "      <td>2018-01-01 00:44:00</td>\n",
       "      <td>139.74310</td>\n",
       "      <td>-66.57141</td>\n",
       "      <td>2017-2018</td>\n",
       "      <td>Chick-rearing</td>\n",
       "      <td>AxyTrek</td>\n",
       "      <td>gps</td>\n",
       "      <td>None</td>\n",
       "      <td>2018_C15</td>\n",
       "      <td>2018_C15</td>\n",
       "      <td>Adélie penguins, Sphenisciforms, foraging acti...</td>\n",
       "      <td>2021-05-20</td>\n",
       "      <td>None</td>\n",
       "      <td>2018</td>\n",
       "      <td>POINT (139.74310 -66.57141)</td>\n",
       "      <td>2018-01-01 00:44:00</td>\n",
       "    </tr>\n",
       "    <tr>\n",
       "      <th>2</th>\n",
       "      <td>2018-01-01 00:45:00</td>\n",
       "      <td>139.74364</td>\n",
       "      <td>-66.57182</td>\n",
       "      <td>2017-2018</td>\n",
       "      <td>Chick-rearing</td>\n",
       "      <td>AxyTrek</td>\n",
       "      <td>gps</td>\n",
       "      <td>None</td>\n",
       "      <td>2018_C15</td>\n",
       "      <td>2018_C15</td>\n",
       "      <td>Adélie penguins, Sphenisciforms, foraging acti...</td>\n",
       "      <td>2021-05-20</td>\n",
       "      <td>None</td>\n",
       "      <td>2018</td>\n",
       "      <td>POINT (139.74364 -66.57182)</td>\n",
       "      <td>2018-01-01 00:45:00</td>\n",
       "    </tr>\n",
       "    <tr>\n",
       "      <th>3</th>\n",
       "      <td>2018-01-01 00:46:00</td>\n",
       "      <td>139.74420</td>\n",
       "      <td>-66.57211</td>\n",
       "      <td>2017-2018</td>\n",
       "      <td>Chick-rearing</td>\n",
       "      <td>AxyTrek</td>\n",
       "      <td>gps</td>\n",
       "      <td>None</td>\n",
       "      <td>2018_C15</td>\n",
       "      <td>2018_C15</td>\n",
       "      <td>Adélie penguins, Sphenisciforms, foraging acti...</td>\n",
       "      <td>2021-05-20</td>\n",
       "      <td>None</td>\n",
       "      <td>2018</td>\n",
       "      <td>POINT (139.74420 -66.57211)</td>\n",
       "      <td>2018-01-01 00:46:00</td>\n",
       "    </tr>\n",
       "    <tr>\n",
       "      <th>4</th>\n",
       "      <td>2018-01-01 00:47:00</td>\n",
       "      <td>139.74433</td>\n",
       "      <td>-66.57228</td>\n",
       "      <td>2017-2018</td>\n",
       "      <td>Chick-rearing</td>\n",
       "      <td>AxyTrek</td>\n",
       "      <td>gps</td>\n",
       "      <td>None</td>\n",
       "      <td>2018_C15</td>\n",
       "      <td>2018_C15</td>\n",
       "      <td>Adélie penguins, Sphenisciforms, foraging acti...</td>\n",
       "      <td>2021-05-20</td>\n",
       "      <td>None</td>\n",
       "      <td>2018</td>\n",
       "      <td>POINT (139.74433 -66.57228)</td>\n",
       "      <td>2018-01-01 00:47:00</td>\n",
       "    </tr>\n",
       "  </tbody>\n",
       "</table>\n",
       "</div>"
      ],
      "text/plain": [
       "            timestamp       long       lat   comments     migration_  \\\n",
       "0 2018-01-01 00:43:00  139.74282 -66.57103  2017-2018  Chick-rearing   \n",
       "1 2018-01-01 00:44:00  139.74310 -66.57141  2017-2018  Chick-rearing   \n",
       "2 2018-01-01 00:45:00  139.74364 -66.57182  2017-2018  Chick-rearing   \n",
       "3 2018-01-01 00:46:00  139.74420 -66.57211  2017-2018  Chick-rearing   \n",
       "4 2018-01-01 00:47:00  139.74433 -66.57228  2017-2018  Chick-rearing   \n",
       "\n",
       "  tag_tech_s sensor_typ individual tag_ident ind_ident  \\\n",
       "0    AxyTrek        gps       None  2018_C15  2018_C15   \n",
       "1    AxyTrek        gps       None  2018_C15  2018_C15   \n",
       "2    AxyTrek        gps       None  2018_C15  2018_C15   \n",
       "3    AxyTrek        gps       None  2018_C15  2018_C15   \n",
       "4    AxyTrek        gps       None  2018_C15  2018_C15   \n",
       "\n",
       "                                          study_name        date  time  year  \\\n",
       "0  Adélie penguins, Sphenisciforms, foraging acti...  2021-05-20  None  2018   \n",
       "1  Adélie penguins, Sphenisciforms, foraging acti...  2021-05-20  None  2018   \n",
       "2  Adélie penguins, Sphenisciforms, foraging acti...  2021-05-20  None  2018   \n",
       "3  Adélie penguins, Sphenisciforms, foraging acti...  2021-05-20  None  2018   \n",
       "4  Adélie penguins, Sphenisciforms, foraging acti...  2021-05-20  None  2018   \n",
       "\n",
       "                      geometry                    t  \n",
       "0  POINT (139.74282 -66.57103)  2018-01-01 00:43:00  \n",
       "1  POINT (139.74310 -66.57141)  2018-01-01 00:44:00  \n",
       "2  POINT (139.74364 -66.57182)  2018-01-01 00:45:00  \n",
       "3  POINT (139.74420 -66.57211)  2018-01-01 00:46:00  \n",
       "4  POINT (139.74433 -66.57228)  2018-01-01 00:47:00  "
      ]
     },
     "execution_count": 18,
     "metadata": {},
     "output_type": "execute_result"
    }
   ],
   "source": [
    "geodata.head()"
   ]
  },
  {
   "cell_type": "code",
   "execution_count": 19,
   "id": "57f53113",
   "metadata": {},
   "outputs": [],
   "source": [
    "geodata = geodata[['t', 'ind_ident', 'geometry']]"
   ]
  },
  {
   "cell_type": "code",
   "execution_count": 20,
   "id": "9d4624f9",
   "metadata": {},
   "outputs": [
    {
     "name": "stdout",
     "output_type": "stream",
     "text": [
      "User Guide: https://docs.kepler.gl/docs/keplergl-jupyter\n"
     ]
    },
    {
     "data": {
      "application/vnd.jupyter.widget-view+json": {
       "model_id": "20193fb280d44e94b29b15855a8df016",
       "version_major": 2,
       "version_minor": 0
      },
      "text/plain": [
       "KeplerGl(data={'Penguins': {'index': [0, 1, 2, 3, 4, 5, 6, 7, 8, 9, 10, 11, 12, 13, 14, 15, 16, 17, 18, 19, 20…"
      ]
     },
     "metadata": {},
     "output_type": "display_data"
    }
   ],
   "source": [
    "# Create KeplerGl instance\n",
    "m = KeplerGl(height=600)\n",
    "\n",
    "# Add stop durations\n",
    "m.add_data(geodata, 'Penguins')\n",
    "\n",
    "m"
   ]
  },
  {
   "cell_type": "code",
   "execution_count": 21,
   "id": "ee362ebc",
   "metadata": {},
   "outputs": [],
   "source": [
    "config={\n",
    "  \"version\": \"v1\",\n",
    "  \"config\": {\n",
    "    \"visState\": {\n",
    "      \"filters\": [\n",
    "        {\n",
    "          \"dataId\": [\n",
    "            \"Penguins\"\n",
    "          ],\n",
    "          \"id\": \"ui3c9pzr\",\n",
    "          \"name\": [\n",
    "            \"t\"\n",
    "          ],\n",
    "          \"type\": \"timeRange\",\n",
    "          \"value\": [\n",
    "            1514764800000,\n",
    "            1514795331000.0002\n",
    "          ],\n",
    "          \"enlarged\": True,\n",
    "          \"plotType\": \"histogram\",\n",
    "          \"animationWindow\": \"free\",\n",
    "          \"yAxis\": None\n",
    "        }\n",
    "      ],\n",
    "      \"layers\": [\n",
    "        {\n",
    "          \"id\": \"0ka3h8l\",\n",
    "          \"type\": \"geojson\",\n",
    "          \"config\": {\n",
    "            \"dataId\": \"Penguins\",\n",
    "            \"label\": \"Penguins\",\n",
    "            \"color\": [\n",
    "              221,\n",
    "              178,\n",
    "              124\n",
    "            ],\n",
    "            \"columns\": {\n",
    "              \"geojson\": \"geometry\"\n",
    "            },\n",
    "            \"isVisible\": True,\n",
    "            \"visConfig\": {\n",
    "              \"opacity\": 0.05,\n",
    "              \"strokeOpacity\": 0.8,\n",
    "              \"thickness\": 0.1,\n",
    "              \"strokeColor\": [\n",
    "                112,\n",
    "                108,\n",
    "                99\n",
    "              ],\n",
    "              \"colorRange\": {\n",
    "                \"name\": \"Uber Viz Qualitative 3\",\n",
    "                \"type\": \"qualitative\",\n",
    "                \"category\": \"Uber\",\n",
    "                \"colors\": [\n",
    "                  \"#12939A\",\n",
    "                  \"#DDB27C\",\n",
    "                  \"#88572C\",\n",
    "                  \"#FF991F\",\n",
    "                  \"#F15C17\",\n",
    "                  \"#223F9A\",\n",
    "                  \"#DA70BF\",\n",
    "                  \"#125C77\",\n",
    "                  \"#4DC19C\",\n",
    "                  \"#776E57\",\n",
    "                  \"#17B8BE\",\n",
    "                  \"#F6D18A\",\n",
    "                  \"#B7885E\",\n",
    "                  \"#FFCB99\",\n",
    "                  \"#F89570\"\n",
    "                ]\n",
    "              },\n",
    "              \"strokeColorRange\": {\n",
    "                \"name\": \"Global Warming\",\n",
    "                \"type\": \"sequential\",\n",
    "                \"category\": \"Uber\",\n",
    "                \"colors\": [\n",
    "                  \"#5A1846\",\n",
    "                  \"#900C3F\",\n",
    "                  \"#C70039\",\n",
    "                  \"#E3611C\",\n",
    "                  \"#F1920E\",\n",
    "                  \"#FFC300\"\n",
    "                ]\n",
    "              },\n",
    "              \"radius\": 8.4,\n",
    "              \"sizeRange\": [\n",
    "                0,\n",
    "                10\n",
    "              ],\n",
    "              \"radiusRange\": [\n",
    "                0,\n",
    "                50\n",
    "              ],\n",
    "              \"heightRange\": [\n",
    "                0,\n",
    "                500\n",
    "              ],\n",
    "              \"elevationScale\": 5,\n",
    "              \"stroked\": False,\n",
    "              \"filled\": True,\n",
    "              \"enable3d\": False,\n",
    "              \"wireframe\": False\n",
    "            },\n",
    "            \"hidden\": False,\n",
    "            \"textLabel\": [\n",
    "              {\n",
    "                \"field\": None,\n",
    "                \"color\": [\n",
    "                  255,\n",
    "                  255,\n",
    "                  255\n",
    "                ],\n",
    "                \"size\": 18,\n",
    "                \"offset\": [\n",
    "                  0,\n",
    "                  0\n",
    "                ],\n",
    "                \"anchor\": \"start\",\n",
    "                \"alignment\": \"center\"\n",
    "              }\n",
    "            ]\n",
    "          },\n",
    "          \"visualChannels\": {\n",
    "            \"colorField\": {\n",
    "              \"name\": \"ind_ident\",\n",
    "              \"type\": \"string\"\n",
    "            },\n",
    "            \"colorScale\": \"ordinal\",\n",
    "            \"sizeField\": None,\n",
    "            \"sizeScale\": \"linear\",\n",
    "            \"strokeColorField\": None,\n",
    "            \"strokeColorScale\": \"quantile\",\n",
    "            \"heightField\": None,\n",
    "            \"heightScale\": \"linear\",\n",
    "            \"radiusField\": None,\n",
    "            \"radiusScale\": \"linear\"\n",
    "          }\n",
    "        }\n",
    "      ],\n",
    "      \"interactionConfig\": {\n",
    "        \"tooltip\": {\n",
    "          \"fieldsToShow\": {\n",
    "            \"Penguins\": [\n",
    "              {\n",
    "                \"name\": \"t\",\n",
    "                \"format\": None\n",
    "              },\n",
    "              {\n",
    "                \"name\": \"ind_ident\",\n",
    "                \"format\": None\n",
    "              }\n",
    "            ]\n",
    "          },\n",
    "          \"compareMode\": False,\n",
    "          \"compareType\": \"absolute\",\n",
    "          \"enabled\": True\n",
    "        },\n",
    "        \"brush\": {\n",
    "          \"size\": 0.5,\n",
    "          \"enabled\": False\n",
    "        },\n",
    "        \"geocoder\": {\n",
    "          \"enabled\": False\n",
    "        },\n",
    "        \"coordinate\": {\n",
    "          \"enabled\": False\n",
    "        }\n",
    "      },\n",
    "      \"layerBlending\": \"normal\",\n",
    "      \"splitMaps\": [],\n",
    "      \"animationConfig\": {\n",
    "        \"currentTime\": None,\n",
    "        \"speed\": 1\n",
    "      }\n",
    "    },\n",
    "    \"mapState\": {\n",
    "      \"bearing\": 0,\n",
    "      \"dragRotate\": False,\n",
    "      \"latitude\": -66.56305043473054,\n",
    "      \"longitude\": 140.99577134704958,\n",
    "      \"pitch\": 0,\n",
    "      \"zoom\": 6.3634568363126816,\n",
    "      \"isSplit\": False\n",
    "    },\n",
    "    \"mapStyle\": {\n",
    "      \"styleType\": \"dark\",\n",
    "      \"topLayerGroups\": {},\n",
    "      \"visibleLayerGroups\": {\n",
    "        \"label\": True,\n",
    "        \"road\": True,\n",
    "        \"border\": False,\n",
    "        \"building\": True,\n",
    "        \"water\": True,\n",
    "        \"land\": True,\n",
    "        \"3d building\": False\n",
    "      },\n",
    "      \"threeDBuildingColor\": [\n",
    "        9.665468314072013,\n",
    "        17.18305478057247,\n",
    "        31.1442867897876\n",
    "      ],\n",
    "      \"mapStyles\": {}\n",
    "    }\n",
    "  }\n",
    "}"
   ]
  },
  {
   "cell_type": "code",
   "execution_count": 22,
   "id": "4a0af4e5",
   "metadata": {},
   "outputs": [
    {
     "name": "stdout",
     "output_type": "stream",
     "text": [
      "Map saved to index.html!\n"
     ]
    }
   ],
   "source": [
    "# Save map as html\n",
    "m.save_to_html(file_name='index.html', config=config)"
   ]
  }
 ],
 "metadata": {
  "kernelspec": {
   "display_name": "gis",
   "language": "python",
   "name": "gis"
  },
  "language_info": {
   "codemirror_mode": {
    "name": "ipython",
    "version": 3
   },
   "file_extension": ".py",
   "mimetype": "text/x-python",
   "name": "python",
   "nbconvert_exporter": "python",
   "pygments_lexer": "ipython3",
   "version": "3.8.5"
  }
 },
 "nbformat": 4,
 "nbformat_minor": 5
}
